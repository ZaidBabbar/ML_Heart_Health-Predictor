# 1. Import libraries
import pandas as pd
import numpy as np
import matplotlib.pyplot as plt
import seaborn as sns

# 2. Load dataset (from UCI/Kaggle)
# Download dataset CSV from: https://www.kaggle.com/datasets/ronitf/heart-disease-uci
df = pd.read_csv("heart.csv")  # file ko project folder me rakho

# 3. Basic info
print("Dataset shape:", df.shape)
print("\nColumns:", df.columns)
print("\nMissing values:\n", df.isnull().sum())

# 4. Preview first rows
df.head()

# 5. Basic statistics
df.describe()

# 6. Correlation heatmap
plt.figure(figsize=(10,6))
sns.heatmap(df.corr(), annot=True, cmap="coolwarm")
plt.title("Correlation Heatmap of Heart Disease Features")
plt.show()

# 7. Target balance check
sns.countplot(x="target", data=df, palette="Set2")
plt.title("Heart Disease Cases Distribution (0 = No, 1 = Yes)")
plt.show()

# 8. Feature / Target split
X = df.drop("target", axis=1)
y = df["target"]

# 9. Scaling features
from sklearn.preprocessing import StandardScaler
scaler = StandardScaler()
X_scaled = scaler.fit_transform(X)

# Save preprocessed data for model training
import joblib
joblib.dump(scaler, "../models/scaler.pkl")  # scaler save
np.save("../models/X_scaled.npy", X_scaled)
np.save("../models/y.npy", y)
