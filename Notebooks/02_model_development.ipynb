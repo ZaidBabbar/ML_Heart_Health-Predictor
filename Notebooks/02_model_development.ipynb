# 02_model_development.ipynb

# ==============================
# 1. Import Libraries
# ==============================
import pandas as pd
import numpy as np
from sklearn.model_selection import train_test_split
from sklearn.linear_model import LogisticRegression
from sklearn.ensemble import RandomForestClassifier
from sklearn.metrics import accuracy_score, precision_score, recall_score, f1_score, classification_report
import joblib

# ==============================
# 2. Load Dataset
# ==============================
data = pd.read_csv("heart.csv")   #_
