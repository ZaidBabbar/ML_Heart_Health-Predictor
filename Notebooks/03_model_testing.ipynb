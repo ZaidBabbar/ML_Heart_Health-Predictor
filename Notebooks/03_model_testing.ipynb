# 03_model_testing.ipynb

# ==============================
# 1. Import Libraries
# ==============================
import pandas as pd
import joblib

# ==============================
# 2. Load Saved Models
# ==============================
log_reg = joblib.load("../models/model_lr.pkl")
rf = joblib.load("../models/model_rf.pkl")

# ==============================
# 3. Example New Patient Input
# ==============================
# Format: [age, sex, cp, trestbps, chol, fbs, restecg, thalach, exang, oldpeak, slope, ca, thal]
# Example patient values (replace with real test cases)
new_patient = pd.DataFrame([[
    52,     # age
    1,      # sex (1=male, 0=female)
    0,      # cp (chest pain type)
    125,    # trestbps (resting blood pressure)
    212,    # chol (cholesterol)
    0,      # fbs (fasting blood sugar)
    1,      # restecg
    168,    # thalach (max heart rate)
    0,      # exang (exercise induced angina)
    1.0,    # oldpeak
    2,      # slope
    0,      # ca
    2       # thal
]], columns=[
    "age","sex","cp","trestbps","chol","fbs","restecg","thalach",
    "exang","oldpeak","slope","ca","thal"
])

print("New patient data:\n", new_patient)

# ==============================
# 4. Predictions
# ==============================
pred_lr = log_reg.predict(new_patient)[0]
pred_rf = rf.predict(new_patient)[0]

print("\nLogistic Regression Prediction:", "Heart Disease" if pred_lr == 1 else "No Heart Disease")
print("Random Forest Prediction:", "Heart Disease" if pred_rf == 1 else "No Heart Disease")
